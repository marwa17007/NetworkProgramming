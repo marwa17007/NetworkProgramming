{
 "cells": [
  {
   "cell_type": "code",
   "execution_count": 9,
   "metadata": {},
   "outputs": [
    {
     "data": {
      "text/plain": [
       "(IPv6Address('2001:db8::1'), IPv4Address('192.0.2.1'))"
      ]
     },
     "execution_count": 9,
     "metadata": {},
     "output_type": "execute_result"
    }
   ],
   "source": [
    "#                         |ipaddress Module |\n",
    "\n",
    "\n",
    "import ipaddress\n",
    "\n",
    "adr4 = ipaddress.ip_address('192.0.2.1')\n",
    "\n",
    "adr6 =ipaddress.ip_address('2001:DB8::1')\n",
    "\n",
    "\n",
    "adr6, adr4 "
   ]
  },
  {
   "cell_type": "code",
   "execution_count": null,
   "metadata": {},
   "outputs": [],
   "source": [
    "#                         |socket Module|\n",
    "\n",
    "\n",
    "import socket\n",
    "\n",
    "socket.gethostbyname('www.ndhu.edu.tw')"
   ]
  },
  {
   "cell_type": "code",
   "execution_count": 8,
   "metadata": {},
   "outputs": [
    {
     "name": "stdout",
     "output_type": "stream",
     "text": [
      "('134-208-11-217.ndhu.edu.tw', ['217.11.208.134.in-addr.arpa'], ['134.208.11.217'])\n",
      "134-208-11-217.ndhu.edu.tw\n",
      "MACBOOKs-Air\n"
     ]
    }
   ],
   "source": [
    "#                         |socket Module|\n",
    "\n",
    "print(socket.gethostbyaddr('134.208.11.217') )\n",
    "\n",
    "print(socket.getfqdn('134.208.11.217') )\n",
    " \n",
    "print(socket.gethostname())"
   ]
  },
  {
   "cell_type": "code",
   "execution_count": 7,
   "metadata": {},
   "outputs": [
    {
     "name": "stdout",
     "output_type": "stream",
     "text": [
      "6\n"
     ]
    }
   ],
   "source": [
    "#                         | getprotobyname() |\n",
    "\n",
    "import socket\n",
    "\n",
    "protocol_name = \"tcp\"\n",
    "\n",
    "# Get the protocol number for the given protocol name.\n",
    "protocol_number = socket.getprotobyname(protocol_name)\n",
    "\n",
    "# Print the protocol number.\n",
    "print(protocol_number)"
   ]
  },
  {
   "cell_type": "code",
   "execution_count": 6,
   "metadata": {},
   "outputs": [
    {
     "name": "stdout",
     "output_type": "stream",
     "text": [
      "443\n"
     ]
    }
   ],
   "source": [
    "#                         | getservbyname() |\n",
    "\n",
    "import socket\n",
    "\n",
    "service_name = \"https\"\n",
    "\n",
    "# Get the port number for the given service name.\n",
    "port_number = socket.getservbyname(service_name)\n",
    "\n",
    "# Print the port number.\n",
    "print(port_number)"
   ]
  },
  {
   "cell_type": "code",
   "execution_count": 5,
   "metadata": {},
   "outputs": [
    {
     "name": "stdout",
     "output_type": "stream",
     "text": [
      "http\n"
     ]
    }
   ],
   "source": [
    "#                         | getservbyport() |\n",
    "\n",
    "import socket\n",
    "\n",
    "port_number = 80\n",
    "\n",
    "# Get the service name for the given port number.\n",
    "service_name = socket.getservbyport(port_number)\n",
    "\n",
    "# Print the service name.\n",
    "print(service_name)"
   ]
  },
  {
   "cell_type": "code",
   "execution_count": 4,
   "metadata": {},
   "outputs": [
    {
     "name": "stdout",
     "output_type": "stream",
     "text": [
      "142.251.37.238 “\n",
      "” 192.124.249.162\n"
     ]
    }
   ],
   "source": [
    "#                         |DNS Lookup Example (1)|\n",
    "\n",
    "import socket \n",
    "\n",
    "addr1 = socket.gethostbyname('google.com')\n",
    "addr2 = socket.gethostbyname('www.uot.edu.ly') \n",
    "print(addr1, \"“\\n”\" ,addr2) "
   ]
  },
  {
   "cell_type": "code",
   "execution_count": null,
   "metadata": {},
   "outputs": [],
   "source": [
    "#                         |IP Network|\n",
    "\n",
    "import socket \n",
    "# Function to display hostname and IP address \n",
    "def get_Host_name_IP(): \n",
    "    try: \n",
    "        host_name = socket.gethostname() \n",
    "        host_ip = socket.gethostbyname('localhost') \n",
    "        print(\"Hostname : \", host_name) \n",
    "        print(\"IP : \", host_ip) \n",
    "    except: \n",
    "        print(\"Unable to get Hostname and IP\") \n",
    "# Driver code get_Host_name_IP() #Function call\n",
    "get_Host_name_IP()"
   ]
  },
  {
   "cell_type": "code",
   "execution_count": 2,
   "metadata": {},
   "outputs": [
    {
     "name": "stdout",
     "output_type": "stream",
     "text": [
      "MACBOOKs-Air\n",
      "127.0.0.1\n",
      "127.0.0.1/32\n"
     ]
    }
   ],
   "source": [
    "#                         |DNS Lookup Example (2)|\n",
    "\n",
    "# Testing IP networking \n",
    "import socket \n",
    "import ipaddress \n",
    "host = socket.gethostname() \n",
    "print(host)\n",
    "ip = socket.gethostbyname('localhost') \n",
    "print(ip)\n",
    "net = ipaddress.ip_network(ip)\n",
    "print(net)"
   ]
  },
  {
   "cell_type": "code",
   "execution_count": 1,
   "metadata": {},
   "outputs": [
    {
     "name": "stdout",
     "output_type": "stream",
     "text": [
      "MACBOOKs-Air\n",
      "127.0.0.1\n",
      "('localhost', [], ['127.0.0.1'])\n"
     ]
    }
   ],
   "source": [
    "import socket  \n",
    "host = socket.gethostname() \n",
    "print(host)\n",
    "ip = socket.gethostbyname('localhost') \n",
    "print(ip)\n",
    "print (socket.gethostbyname_ex('localhost'))"
   ]
  }
 ],
 "metadata": {
  "kernelspec": {
   "display_name": "Python 3",
   "language": "python",
   "name": "python3"
  },
  "language_info": {
   "codemirror_mode": {
    "name": "ipython",
    "version": 3
   },
   "file_extension": ".py",
   "mimetype": "text/x-python",
   "name": "python",
   "nbconvert_exporter": "python",
   "pygments_lexer": "ipython3",
   "version": "3.11.3"
  }
 },
 "nbformat": 4,
 "nbformat_minor": 2
}
